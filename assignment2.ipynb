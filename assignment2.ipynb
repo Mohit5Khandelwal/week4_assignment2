{
 "cells": [
  {
   "attachments": {},
   "cell_type": "markdown",
   "metadata": {},
   "source": [
    "Q1. Explain Class and Object with respect to Object-Oriented Programming. Give a suitable example.\n",
    "\n",
    "In object-oriented programming (OOP), a class is a blueprint or a template that defines the structure and behavior of objects. It serves as a blueprint for creating individual objects that belong to that class. \n",
    "\n",
    "An object, on the other hand, is an instance of a class. It represents a specific entity or element created based on the structure defined by the class."
   ]
  },
  {
   "cell_type": "code",
   "execution_count": 1,
   "metadata": {},
   "outputs": [
    {
     "data": {
      "text/plain": [
       "\"The car is swift and it's top speed is 78\""
      ]
     },
     "execution_count": 1,
     "metadata": {},
     "output_type": "execute_result"
    }
   ],
   "source": [
    "class car:\n",
    "\n",
    "    def __init__(self, car_name, car_speed):\n",
    "        self.car_name = car_name\n",
    "        self.car_speed = car_speed\n",
    "    \n",
    "    def details(self):\n",
    "        return f\"The car is {self.car_name} and it's top speed is {self.car_speed}\"\n",
    "\n",
    "# Creating an object from the class car \n",
    "\n",
    "obj1 = car( \"swift\", 78 )\n",
    "\n",
    "obj1.details()\n"
   ]
  },
  {
   "attachments": {},
   "cell_type": "markdown",
   "metadata": {},
   "source": [
    "Q2. Name the four pillars of OOPs."
   ]
  },
  {
   "attachments": {},
   "cell_type": "markdown",
   "metadata": {},
   "source": [
    "Four pillars of the oops are --\n",
    "\n",
    "1. Encapsulation :- Encapsulation which encapsulates data and it's methods and hides all unnecessary details from the user.\n",
    "\n",
    "2. Abstraction :- Abstraction is a key concept in object-oriented programming (OOP) that focuses on hiding the internal details and complexity of objects and exposing only the essential features and behaviors to the outside world. \n",
    "\n",
    "3. Inheritance :- Inheritance in which we inherit properties and methods from parent class to their child class.\n",
    "\n",
    "4. Polymorphism :- It refers to the ability of an object to take on multiple forms or have multiple behaviors depending on the context in which it is used."
   ]
  },
  {
   "attachments": {},
   "cell_type": "markdown",
   "metadata": {},
   "source": [
    "Q3. Explain why the __init__() function is used. Give a suitable example\n",
    "\n",
    "    The __init__() function is a special method in Python that is automatically called when an object of a class is created. It is also known as the constructor method. The primary purpose of the __init__() function is to initialize the attributes (variables) of an object with the desired values."
   ]
  },
  {
   "cell_type": "code",
   "execution_count": 3,
   "metadata": {},
   "outputs": [
    {
     "data": {
      "text/plain": [
       "'The car name is: Venue and the speed is: 78km/hr'"
      ]
     },
     "execution_count": 3,
     "metadata": {},
     "output_type": "execute_result"
    }
   ],
   "source": [
    "# Example of init in oops \n",
    "class car:\n",
    "\n",
    "    def __init__(self, car_name, car_speed):\n",
    "        self.car_name = car_name\n",
    "        self.car_speed = car_speed\n",
    "    \n",
    "    def details(self):\n",
    "        return f\"The car name is: {self.car_name} and the speed is: {self.car_speed}km/hr\"\n",
    "\n",
    "obj1 = car( \"Venue\", 78 )\n",
    "\n",
    "obj1.details()\n"
   ]
  },
  {
   "attachments": {},
   "cell_type": "markdown",
   "metadata": {},
   "source": [
    "Q4. Why self is used in OOPs?\n",
    "\n",
    "In object-oriented programming (OOP) in Python, self is a conventionally used parameter name that refers to the instance of the class itself. It is a reference to the current object being manipulated or accessed within a method of that class."
   ]
  },
  {
   "attachments": {},
   "cell_type": "markdown",
   "metadata": {},
   "source": [
    "Q5. What is inheritance? Give an example for each type of inheritance\n",
    "\n",
    "Inheritance means that we are inheriting properties or methods from a parent class to their child class."
   ]
  },
  {
   "cell_type": "code",
   "execution_count": 5,
   "metadata": {},
   "outputs": [
    {
     "name": "stdout",
     "output_type": "stream",
     "text": [
      "I was in class 1 when you are inheriting\n",
      "I was in class 2 when you are inheriting\n"
     ]
    }
   ],
   "source": [
    "# 1. Multiple-level inheritance \n",
    "# Multi-level Inheritance \n",
    "class class1:\n",
    "\n",
    "    def test_class1(self):\n",
    "        print(\"I was in class 1 when you are inheriting\")\n",
    "\n",
    "class class2( class1 ):\n",
    "\n",
    "    def test_class2(self):\n",
    "        print(\"I was in class 2 when you are inheriting\")\n",
    "\n",
    "class class3( class2 ):\n",
    "    pass\n",
    "\n",
    "# Object Create \n",
    "obj1 = class3()\n",
    "\n",
    "obj1.test_class1()\n",
    "\n",
    "obj1.test_class2()"
   ]
  },
  {
   "cell_type": "code",
   "execution_count": 4,
   "metadata": {},
   "outputs": [
    {
     "data": {
      "text/plain": [
       "'Hey I am papa what you need to know'"
      ]
     },
     "execution_count": 4,
     "metadata": {},
     "output_type": "execute_result"
    }
   ],
   "source": [
    "# Mutliple Inheritance in oops \n",
    "class papa:\n",
    "\n",
    "    def papa_speak(self):\n",
    "        return \"Hey I am papa what you need to know\"\n",
    "\n",
    "class mom:\n",
    "\n",
    "    def mom_speak(self):\n",
    "        return \"Hey I am mom what you need to know\"\n",
    "\n",
    "class son( papa, mom ):\n",
    "    pass\n",
    "\n",
    "rohan = son()\n",
    "\n",
    "rohan.mom_speak()\n",
    "rohan.papa_speak()"
   ]
  }
 ],
 "metadata": {
  "kernelspec": {
   "display_name": "Python 3",
   "language": "python",
   "name": "python3"
  },
  "language_info": {
   "codemirror_mode": {
    "name": "ipython",
    "version": 3
   },
   "file_extension": ".py",
   "mimetype": "text/x-python",
   "name": "python",
   "nbconvert_exporter": "python",
   "pygments_lexer": "ipython3",
   "version": "3.10.7"
  },
  "orig_nbformat": 4
 },
 "nbformat": 4,
 "nbformat_minor": 2
}
